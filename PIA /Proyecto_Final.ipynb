# Inteligencia Artificial y Redes Neuronales
# PIA:         Entrenamiento de una red neuronal convolucional
# Grupo:008    Hora: N4       Semestre: Agosto-Diciembre 2024
# Equipo 1:    2127839 Bryan Alejandro Lara Carrera
#              2020381 Mario Treviño Rocha
#              1923949 Ovet Orlando García Quiroz
#              1968723 Leonardo Antonio Chavez Mendoza


# Paso 1: importar librerías

import tensorflow as tf
import tensorflow_datasets as tfds
import matplotlib.pyplot as plt
import cv2
import numpy as np
from tensorflow.keras.callbacks import TensorBoard
from tensorflow.keras.preprocessing.image import ImageDataGenerator

datos, metadatos =tfds.load('cats_vs_dogs',
                   as_supervised=True,
                   with_info=True)

# Análisis de datos

metadatos

# Paso 3: Preprocesamiento de datos

plt.figure(figsize=(20,20)) # Mostrar 20 imágenes
Tamaño_img=80 #Tamaño de imagen

for i, (imagen, etiqueta) in enumerate(datos['train'].take(25)):
  imagen = cv2.resize(imagen.numpy(), (Tamaño_img, Tamaño_img)) #Cambiar tamaño de imagen
  imagen = cv2.cvtColor(imagen, cv2.COLOR_BGR2GRAY)
  plt.subplot(5, 5, i+1)
  plt.imshow(imagen, cmap='gray')

# Creando variable de entrenamiento
Img_entrena = []

for i, (imagen, etiqueta) in enumerate(datos['train']):
  imagen = cv2.resize(imagen.numpy(), (Tamaño_img, Tamaño_img))
# Cantidad de imágenes de entrenamiento
len(Img_entrena)

X = [] # Atributos
y = [] # Etiquetas

for imagen, etiqueta in Img_entrena:
  X.append(imagen)
  y.append(etiqueta)

# Normalización

X = np.array(X).astype(float)/255

X

y = np.array(y)

y

X.shape

# Paso 4: Selección y entrenamiento del modelo

# Arquitectura del modelo

modelo = tf.keras.models.Sequential([
    tf.keras.layers.Conv2D(32, (3,3), activation='relu', input_shape=(80, 80, 1)),
    tf.keras.layers.MaxPooling2D(2,2),
    tf.keras.layers.Conv2D(64, (3, 3), activation='relu'),
    tf.keras.layers.MaxPooling2D(2, 2),
    tf.keras.layers.Conv2D(128, (3, 3), activation='relu'),
    tf.keras.layers.MaxPooling2D(2, 2),

    tf.keras.layers.Flatten(),
    tf.keras.layers.Dense(100, activation='relu'),
    tf.keras.layers.Dense(1, activation='sigmoid')
])

# Visualización de arquitectura del modelo
modelo.summary()

# Compilación del modelo
modelo.compile(optimizer='adam',
                loss='binary_crossentropy', metrics=['accuracy'])

history = modelo.fit(X, y, epochs=10,validation_data=(X, y))

# Evaluación del modelo
plt.plot(history.history['accuracy'], label='accuracy')
plt.plot(history.history['val_accuracy'], label = 'val_accuracy')
plt.xlabel('Epoch')
plt.ylabel('Accuracy')
plt.ylim([0.7, 1.1])
plt.legend(loc='lower right')

test_loss, test_acc = modelo.evaluate(X, y, verbose=2)

# Evaluación de exactitud de la red neuronal
test_loss, test_acc = modelo.evaluate(X, y, verbose=2)
print(f"\nExactitud del modelo en datos de prueba: {test_acc}")

# Aumento de datos
datagen = ImageDataGenerator(
    rotation_range = 30,
    width_shift_range=0.2,
    height_shift_range=0.2,
    shear_range=20,
    zoom_range=[0.7, 1.4],
    horizontal_flip=True,
    vertical_flip=True
    )
datagen.fit(X)

plt.figure(figsize=(20,8))

for imagen, etiqueta in datagen.flow(X, y, batch_size=10, shuffle=False):
  for i in range(10):
    plt.subplot(2, 5, i+1)
    plt.xticks([])
    plt.yticks([])
    plt.imshow(imagen[i].reshape(80, 80), cmap="gray")
  break

print(len(X)*.2)
print(len(X)*.8)

X_entrena = X[:18609]
X_prueba = X[4652:]

y_entrena = y[:18609]
y_prueba = y[4652:]

# Paso 5: Prueba de la red neuronal
X_prueba = X_prueba.reshape(-1, 80, 80, 1)

predictions = modelo.predict(X_prueba)

# Función para visualizar imágenes de prueba
def plot_image(i, predictions_array, y_prueba, img):
  predictions_array, true_label, img = predictions_array, y_prueba[i], img[i]
  plt.grid(False)
  plt.xticks([])
  plt.yticks([])

  plt.imshow(img, cmap=plt.cm.binary)

  predicted_label = np.argmax(predictions_array)
  if predicted_label == true_label:
    color = 'blue'
  else:
    color = 'red'

  plt.xlabel("{} {:2.0f}% ({})".format(class_names[predicted_label],
                                100*np.max(predictions_array),
                                class_names[true_label]),
                                color=color)

def plot_value_array(i, predictions_array, true_label):
  predictions_array, true_label = predictions_array, true_label[i]
  plt.grid(False)
  plt.xticks(range(2))
  plt.yticks([])
  thisplot = plt.bar(range(2), predictions_array, color="#777777")
  plt.ylim([0, 1])
  predicted_label = np.argmax(predictions_array)

  thisplot[predicted_label].set_color('red')
  thisplot[true_label].set_color('blue')

class_names = ['Gato', 'Perro']

# Resultado de la última imagen
predictions[-1]

# Resultado de la última imagen
y_prueba[-1]

# Resultado de la última imagen
i = -1
plt.figure(figsize=(6,3))
plt.subplot(1,2,1)
plot_image(i, predictions[i], y_prueba, X_prueba)
plt.subplot(1,2,2)
plot_value_array(i, predictions[i],  y_prueba)
plt.show()

# Resultado de la imagen 500
predictions[500]

# Resultado de la imagen 500
y_prueba[500]

# Resultado de la imagen 500
i = 500
plt.figure(figsize=(6,3))
plt.subplot(1,2,1)
plot_image(i, predictions[i], y_prueba, X_prueba)
plt.subplot(1,2,2)
plot_value_array(i, predictions[i],  y_prueba)
plt.show()

# Resultado de la imagen 1400
predictions[1400]

# Resultado de la imagen 1400
y_prueba[1400]

# Resultado de la imagen 1400
i = 1400
plt.figure(figsize=(6,3))
plt.subplot(1,2,1)
plot_image(i, predictions[i], y_prueba, X_prueba)
plt.subplot(1,2,2)
plot_value_array(i, predictions[i],  y_prueba)
plt.show()

# Resultado de la primera imagen
predictions[1]

# Resultado de la primera imagen
y_prueba[1]

# Resultado de la primera imagen
i = 1
plt.figure(figsize=(6,3))
plt.subplot(1,2,1)
plot_image(i, predictions[i], y_prueba, X_prueba)
plt.subplot(1,2,2)
plot_value_array(i, predictions[i],  y_prueba)
plt.show()

# Resultado de la imagen 5508
predictions[5508]

# Resultado de la imagen 5508
y_prueba[5508]

# Resultado de la imagen 5508
i = 5508
plt.figure(figsize=(6,3))
plt.subplot(1,2,1)
plot_image(i, predictions[i], y_prueba, X_prueba)
plt.subplot(1,2,2)
plot_value_array(i, predictions[i],  y_prueba)
plt.show()

# Resultado de la imagen 8
predictions[8]

# Resultado de la imagen 8
y_prueba[8]

# Resultado de la imagen 8
i = 8
plt.figure(figsize=(6,3))
plt.subplot(1,2,1)
plot_image(i, predictions[i], y_prueba, X_prueba)
plt.subplot(1,2,2)
plot_value_array(i, predictions[i],  y_prueba)
plt.show()
  imagen = cv2.cvtColor(imagen, cv2.COLOR_BGR2GRAY)
  imagen = imagen.reshape(Tamaño_img, Tamaño_img, 1)
  Img_entrena.append([imagen, etiqueta])

Img_entrena

{
  "nbformat": 4,
  "nbformat_minor": 0,
  "metadata": {
    "colab": {
      "provenance": [],
      "toc_visible": true,
      "authorship_tag": "ABX9TyME5CxWtlERP/D30MDusHqG",
      "include_colab_link": true
    },
    "kernelspec": {
      "name": "python3",
      "display_name": "Python 3"
    },
    "language_info": {
      "name": "python"
    }
  },
  "cells": [
    {
      "cell_type": "markdown",
      "metadata": {
        "id": "view-in-github",
        "colab_type": "text"
      },
      "source": [
        "<a href=\"https://colab.research.google.com/github/Shir095/BALC_2127839/blob/main/ACTIVIDAD_5.ipynb\" target=\"_parent\"><img src=\"https://colab.research.google.com/assets/colab-badge.svg\" alt=\"Open In Colab\"/></a>"
      ]
    },
    {
      "cell_type": "code",
      "source": [
        "# ACTIVIDAD 5: DISEÑO DE ALGORITMOS EN PYTHON\n",
        "# BRYAN ALEJANDRO LARA CARRERA\n",
        "# 2127839   N4"
      ],
      "metadata": {
        "id": "CykA7bJ-w-3K"
      },
      "execution_count": null,
      "outputs": []
    },
    {
      "cell_type": "code",
      "execution_count": 3,
      "metadata": {
        "id": "j6mOy301QaLz",
        "colab": {
          "base_uri": "https://localhost:8080/"
        },
        "outputId": "e4c7a77c-810a-43ba-de58-c73e3b24ca18"
      },
      "outputs": [
        {
          "output_type": "stream",
          "name": "stdout",
          "text": [
            "¿Cuál es tu nombre? Alejandro\n",
            "Hola, Alejandro!\n"
          ]
        }
      ],
      "source": [
        "# Algoritmo que le pide al usuario por su nombre y que lo salude con su nombre\n",
        "# excepto si se llama “Ana”, “Juan”, y “Pedro”\n",
        "\n",
        "nombre=input(\"¿Cuál es tu nombre? \")\n",
        "excepciones = [\"Ana\", \"Juan\", \"Pedro\"]\n",
        "if nombre in excepciones:\n",
        "    print(\"No puedo saludarte, lo siento\")\n",
        "else:\n",
        "    print(f\"Hola, {nombre}!\")"
      ]
    },
    {
      "cell_type": "code",
      "source": [
        "# Algoritmo que por medio de una función, le pida al usuario una lista\n",
        "# de N elementos y como resultado invierta el sentido de la lista.\n",
        "\n",
        "n = int(input(\"¿Cuantos elementos tendrá la lista? \"))\n",
        "def invertir(lista):\n",
        "  return lista[::-1]\n",
        "lista=[]\n",
        "for x in range(n):\n",
        "  elemento= input (\"Qué elemento deseas agregar? \")\n",
        "  lista.append(elemento)\n",
        "\n",
        "invertida= invertir(lista)\n",
        "print(invertida)"
      ],
      "metadata": {
        "id": "Ju-lfba4QiEm",
        "colab": {
          "base_uri": "https://localhost:8080/"
        },
        "outputId": "ce0f3173-22c0-4ea7-f7d2-4651a14b21c6"
      },
      "execution_count": 6,
      "outputs": [
        {
          "output_type": "stream",
          "name": "stdout",
          "text": [
            "¿Cuantos elementos tendrá la lista? 4\n",
            "Qué elemento deseas agregar? Cama\n",
            "Qué elemento deseas agregar? Silla\n",
            "Qué elemento deseas agregar? Mesa\n",
            "Qué elemento deseas agregar? Escalera\n",
            "['Escalera', 'Mesa', 'Silla', 'Cama']\n"
          ]
        }
      ]
    },
    {
      "cell_type": "code",
      "source": [
        "# Algoritmo que le pregunte al usuario cuántos números de la serie\n",
        "# de Fibonacci quiere generar y que al final los imprima.\n",
        "\n",
        "n = int(input(\"¿Cuántos números de la serie de Fibonacci deseas generar? \"))\n",
        "def generar(n):\n",
        "    serie = []\n",
        "    a, b = 0, 1\n",
        "    for _ in range(n):\n",
        "        serie.append(a)\n",
        "        a, b = b, a + b\n",
        "    return serie\n",
        "\n",
        "fib_serie = generar(n)\n",
        "print(\"Serie de Fibonacci: \", fib_serie)"
      ],
      "metadata": {
        "id": "hXx2_SdDQl2C",
        "colab": {
          "base_uri": "https://localhost:8080/"
        },
        "outputId": "3a1722ac-3e9d-49cc-9b0a-b50d1db130d8"
      },
      "execution_count": 7,
      "outputs": [
        {
          "output_type": "stream",
          "name": "stdout",
          "text": [
            "¿Cuántos números de la serie de Fibonacci deseas generar? 10\n",
            "Serie de Fibonacci:  [0, 1, 1, 2, 3, 5, 8, 13, 21, 34]\n"
          ]
        }
      ]
    },
    {
      "cell_type": "code",
      "source": [
        "# Juego de adivinar el número: Crea un programa que genere un número aleatorio\n",
        "# entre 1 y 100, y luego le pida al usuario que adivine el número.\n",
        "# El programa debe proporcionar pistas al usuario si el número es mayor\n",
        "# o menor que el número objetivo, y seguir solicitando un nuevo intento\n",
        "# hasta que el usuario adivine correctamente.\n",
        "\n",
        "import random\n",
        "objetivo = random.randint(1, 100)\n",
        "memoria = None\n",
        "\n",
        "while memoria!=objetivo:\n",
        "    memoria= int(input(\"Adivina el número entre 1 y 100: \"))\n",
        "    if memoria<objetivo:\n",
        "        print(\"El número es mayor\")\n",
        "    elif memoria>objetivo:\n",
        "        print(\"El número es menor\")\n",
        "    else:\n",
        "        print(\"Adivinaste el número \\(._.)/\")"
      ],
      "metadata": {
        "id": "Zi7zwMbCQpuZ",
        "colab": {
          "base_uri": "https://localhost:8080/"
        },
        "outputId": "75d0271b-267b-4f1d-c4a9-df7885dc582a"
      },
      "execution_count": 8,
      "outputs": [
        {
          "output_type": "stream",
          "name": "stdout",
          "text": [
            "Adivina el número entre 1 y 100: 50\n",
            "El número es mayor\n",
            "Adivina el número entre 1 y 100: 70\n",
            "El número es mayor\n",
            "Adivina el número entre 1 y 100: 80\n",
            "El número es menor\n",
            "Adivina el número entre 1 y 100: 75\n",
            "El número es menor\n",
            "Adivina el número entre 1 y 100: 73\n",
            "Adivinaste el número \\(._.)/\n"
          ]
        }
      ]
    },
    {
      "cell_type": "code",
      "source": [
        "#Ejercicio de cálculo de números primos en un rango dado:Escribe un programa\n",
        "# que solicite al usuario un rango de números y muestre todos los números\n",
        "# primos dentro de ese rango.\n",
        "def es_primo(num):\n",
        "  if num <= 1:\n",
        "    return False\n",
        "  for i in range(2, int(num**0.5) + 1):\n",
        "    if num % i == 0:\n",
        "      return False\n",
        "    return True\n",
        "def main():\n",
        "  try:\n",
        "      inicio = int(input(\"Cuál es el rango inicial? : \"))\n",
        "      final = int(input(\"Cuál es el rango final? : \"))\n",
        "\n",
        "      if inicio > final:\n",
        "        print(\"El rango inicial debe ser menor o igual al rango final.\")\n",
        "      elif inicio < 1:\n",
        "        print(\"El rango inicial debe ser 1 o un número positivo\")\n",
        "      else:\n",
        "        primos = [num for num in range(inicio, final + 1) if es_primo(num)]\n",
        "        print(f\"Los números primos entre los rangos mencionados son:\")\n",
        "        print(primos)\n",
        "  except ValueError:\n",
        "    print(\"Ingresa números enteros\")\n",
        "\n",
        "if __name__==\"__main__\":\n",
        "  main()"
      ],
      "metadata": {
        "colab": {
          "base_uri": "https://localhost:8080/"
        },
        "id": "OiYF4uhJtCdo",
        "outputId": "4ba053bc-1276-482e-c87b-8d778b91f5f3"
      },
      "execution_count": 9,
      "outputs": [
        {
          "output_type": "stream",
          "name": "stdout",
          "text": [
            "Cuál es el rango inicial? : 1\n",
            "Cuál es el rango final? : 20\n",
            "Los números primos entre los rangos mencionados son:\n",
            "[5, 7, 9, 11, 13, 15, 17, 19]\n"
          ]
        }
      ]
    },
    {
      "cell_type": "code",
      "source": [
        "# Escribe un programa que solicite al usuario dos números y realice\n",
        "# operaciones básicas como suma, resta, multiplicación y división\n",
        "# utilizando funciones separadas para cada operación.\n",
        "\n",
        "X = float(input(\"Ingresa el primer número \"))\n",
        "Y = float(input(\"Ingresa el segundo número \"))\n",
        "\n",
        "Op = input(\"¿Qué operación quiere realizar? \")\n",
        "Add = [\"SUMA\",\"Suma\",\"suma\",\"+\"]\n",
        "Sust = [\"RESTA\",\"Resta\",\"resta\",\"-\"]\n",
        "Prod = [\"MULTIPLIACIÓN\",\"MULTIPLIACION\",\"Multiplicación\",\n",
        "            \"Multipliacion\",\"multiplicación\",\"multiplicacion\",\"*\"]\n",
        "Coc =[\"DIVISIÓN\",\"DIVISION\",\"División\",\"Division\",\n",
        "           \"división\",\"division\",\"/\"]\n",
        "\n",
        "def Suma():\n",
        "  print(\"La suma de los números es:  \")\n",
        "  print(X+Y)\n",
        "def Resta():\n",
        "  print(\"La resta de los números es:  \")\n",
        "  print(X-Y)\n",
        "def Multiplicacion():\n",
        "  print(\"La multiplicación de los números es:  \")\n",
        "  print(X*Y)\n",
        "def Division():\n",
        "  print(\"La división de los números es: \")\n",
        "  print(X/Y)\n",
        "\n",
        "if Op in Add:\n",
        " Suma()\n",
        "elif Op in Sust:\n",
        " Resta()\n",
        "elif Op in Prod:\n",
        " Multiplicacion()\n",
        "elif Op in Coc:\n",
        " Division()\n",
        "else:\n",
        " print(\"Por favor elija una operación aritmética\")"
      ],
      "metadata": {
        "colab": {
          "base_uri": "https://localhost:8080/"
        },
        "id": "igW87SfvvyJF",
        "outputId": "9d97a3da-6293-4a30-ced3-8f3bb4f4ad95"
      },
      "execution_count": 10,
      "outputs": [
        {
          "output_type": "stream",
          "name": "stdout",
          "text": [
            "Ingresa el primer número 15\n",
            "Ingresa el segundo número 10\n",
            "¿Qué operación quiere realizar? suma\n",
            "La suma de los números es:  \n",
            "25.0\n"
          ]
        }
      ]
    }
  ]
}
